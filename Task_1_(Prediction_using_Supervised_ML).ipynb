{
  "nbformat": 4,
  "nbformat_minor": 0,
  "metadata": {
    "colab": {
      "name": "Task 1 (Prediction using Supervised ML).ipynb",
      "provenance": [],
      "authorship_tag": "ABX9TyNqcWuYw1cdl1IQVtSOCqPG",
      "include_colab_link": true
    },
    "kernelspec": {
      "name": "python3",
      "display_name": "Python 3"
    },
    "language_info": {
      "name": "python"
    }
  },
  "cells": [
    {
      "cell_type": "markdown",
      "metadata": {
        "id": "view-in-github",
        "colab_type": "text"
      },
      "source": [
        "<a href=\"https://colab.research.google.com/github/SherylPhilip/The-Sparks-Foundation-Internship/blob/main/Task_1_(Prediction_using_Supervised_ML).ipynb\" target=\"_parent\"><img src=\"https://colab.research.google.com/assets/colab-badge.svg\" alt=\"Open In Colab\"/></a>"
      ]
    },
    {
      "cell_type": "markdown",
      "metadata": {
        "id": "yyBeTnANpVc3"
      },
      "source": [
        "# **The Sparks Foundation**"
      ]
    },
    {
      "cell_type": "markdown",
      "metadata": {
        "id": "S8uv5sfcplVv"
      },
      "source": [
        "## **Data Science and Business Analytics Intership (GRIP June21)**"
      ]
    },
    {
      "cell_type": "markdown",
      "metadata": {
        "id": "fzdhW6rZpx_J"
      },
      "source": [
        "**Task 1: Prediction using Supervised ML**"
      ]
    },
    {
      "cell_type": "markdown",
      "metadata": {
        "id": "P88Fb4obp4Dk"
      },
      "source": [
        "# **Author : Sheryl Philip**\n",
        "\n",
        "\n"
      ]
    },
    {
      "cell_type": "markdown",
      "metadata": {
        "id": "Pos_nTVwp_JE"
      },
      "source": [
        "**Problem statement: To predict score if a student studies for 9.25 hrs/ day?**"
      ]
    },
    {
      "cell_type": "markdown",
      "metadata": {
        "id": "k_iglX7uqy-9"
      },
      "source": [
        "**# Importing the required libraries**"
      ]
    },
    {
      "cell_type": "markdown",
      "metadata": {
        "id": "vaPQaSqwsGMG"
      },
      "source": [
        "Pandas,Numpy for  data manuplation.\n",
        "\n",
        "Matplotlib,seaborn module for Data Visualisation.\n",
        "\n",
        "sklearn for modelling especially regession"
      ]
    },
    {
      "cell_type": "code",
      "metadata": {
        "id": "fuz1d-2Vnd6x"
      },
      "source": [
        "import pandas as pd\n",
        "import numpy as np\n",
        "import matplotlib.pyplot as plt\n",
        "import seaborn as sns\n",
        "%matplotlib inline\n",
        "\n",
        "from sklearn.model_selection import train_test_split\n",
        "from sklearn.linear_model import LinearRegression\n",
        "from sklearn import metrics\n"
      ],
      "execution_count": 1,
      "outputs": []
    },
    {
      "cell_type": "markdown",
      "metadata": {
        "id": "yrAzNvactHrO"
      },
      "source": [
        "**# Importing the dataset by reading the url file**"
      ]
    },
    {
      "cell_type": "code",
      "metadata": {
        "id": "IT6jJa-Kszdl"
      },
      "source": [
        "url = \"http://bit.ly/w-data\"\n",
        "data_scores = pd.read_csv(url)"
      ],
      "execution_count": 2,
      "outputs": []
    },
    {
      "cell_type": "code",
      "metadata": {
        "colab": {
          "base_uri": "https://localhost:8080/",
          "height": 362
        },
        "id": "w0VYSxSMtXaU",
        "outputId": "c44be683-4ec0-4645-e763-0ca4b88955ed"
      },
      "source": [
        "print(\"First 10 elements of the  dataset\")\n",
        "data_scores.head(10)"
      ],
      "execution_count": 3,
      "outputs": [
        {
          "output_type": "stream",
          "text": [
            "First 10 elements of the  dataset\n"
          ],
          "name": "stdout"
        },
        {
          "output_type": "execute_result",
          "data": {
            "text/html": [
              "<div>\n",
              "<style scoped>\n",
              "    .dataframe tbody tr th:only-of-type {\n",
              "        vertical-align: middle;\n",
              "    }\n",
              "\n",
              "    .dataframe tbody tr th {\n",
              "        vertical-align: top;\n",
              "    }\n",
              "\n",
              "    .dataframe thead th {\n",
              "        text-align: right;\n",
              "    }\n",
              "</style>\n",
              "<table border=\"1\" class=\"dataframe\">\n",
              "  <thead>\n",
              "    <tr style=\"text-align: right;\">\n",
              "      <th></th>\n",
              "      <th>Hours</th>\n",
              "      <th>Scores</th>\n",
              "    </tr>\n",
              "  </thead>\n",
              "  <tbody>\n",
              "    <tr>\n",
              "      <th>0</th>\n",
              "      <td>2.5</td>\n",
              "      <td>21</td>\n",
              "    </tr>\n",
              "    <tr>\n",
              "      <th>1</th>\n",
              "      <td>5.1</td>\n",
              "      <td>47</td>\n",
              "    </tr>\n",
              "    <tr>\n",
              "      <th>2</th>\n",
              "      <td>3.2</td>\n",
              "      <td>27</td>\n",
              "    </tr>\n",
              "    <tr>\n",
              "      <th>3</th>\n",
              "      <td>8.5</td>\n",
              "      <td>75</td>\n",
              "    </tr>\n",
              "    <tr>\n",
              "      <th>4</th>\n",
              "      <td>3.5</td>\n",
              "      <td>30</td>\n",
              "    </tr>\n",
              "    <tr>\n",
              "      <th>5</th>\n",
              "      <td>1.5</td>\n",
              "      <td>20</td>\n",
              "    </tr>\n",
              "    <tr>\n",
              "      <th>6</th>\n",
              "      <td>9.2</td>\n",
              "      <td>88</td>\n",
              "    </tr>\n",
              "    <tr>\n",
              "      <th>7</th>\n",
              "      <td>5.5</td>\n",
              "      <td>60</td>\n",
              "    </tr>\n",
              "    <tr>\n",
              "      <th>8</th>\n",
              "      <td>8.3</td>\n",
              "      <td>81</td>\n",
              "    </tr>\n",
              "    <tr>\n",
              "      <th>9</th>\n",
              "      <td>2.7</td>\n",
              "      <td>25</td>\n",
              "    </tr>\n",
              "  </tbody>\n",
              "</table>\n",
              "</div>"
            ],
            "text/plain": [
              "   Hours  Scores\n",
              "0    2.5      21\n",
              "1    5.1      47\n",
              "2    3.2      27\n",
              "3    8.5      75\n",
              "4    3.5      30\n",
              "5    1.5      20\n",
              "6    9.2      88\n",
              "7    5.5      60\n",
              "8    8.3      81\n",
              "9    2.7      25"
            ]
          },
          "metadata": {
            "tags": []
          },
          "execution_count": 3
        }
      ]
    },
    {
      "cell_type": "code",
      "metadata": {
        "colab": {
          "base_uri": "https://localhost:8080/"
        },
        "id": "2Dstfex-uK8i",
        "outputId": "3a8dba5f-2840-4750-b3ad-f9b17102e3cf"
      },
      "source": [
        "print(data_scores.dtypes)\n",
        "print(data_scores.shape)"
      ],
      "execution_count": 4,
      "outputs": [
        {
          "output_type": "stream",
          "text": [
            "Hours     float64\n",
            "Scores      int64\n",
            "dtype: object\n",
            "(25, 2)\n"
          ],
          "name": "stdout"
        }
      ]
    },
    {
      "cell_type": "markdown",
      "metadata": {
        "id": "5cVebIFVvLkn"
      },
      "source": [
        "#Exploratory Analysis "
      ]
    },
    {
      "cell_type": "markdown",
      "metadata": {
        "id": "zFfUsgRjvTNP"
      },
      "source": [
        "In order for the data to be applied better in the machine learning alogorithmn lets check the data set for missing values and outliers"
      ]
    },
    {
      "cell_type": "code",
      "metadata": {
        "colab": {
          "base_uri": "https://localhost:8080/",
          "height": 286
        },
        "id": "R5yrSwpDwS25",
        "outputId": "a6a3aa4b-9a9c-4fa0-ad56-362951d61740"
      },
      "source": [
        "data_scores.describe()"
      ],
      "execution_count": 5,
      "outputs": [
        {
          "output_type": "execute_result",
          "data": {
            "text/html": [
              "<div>\n",
              "<style scoped>\n",
              "    .dataframe tbody tr th:only-of-type {\n",
              "        vertical-align: middle;\n",
              "    }\n",
              "\n",
              "    .dataframe tbody tr th {\n",
              "        vertical-align: top;\n",
              "    }\n",
              "\n",
              "    .dataframe thead th {\n",
              "        text-align: right;\n",
              "    }\n",
              "</style>\n",
              "<table border=\"1\" class=\"dataframe\">\n",
              "  <thead>\n",
              "    <tr style=\"text-align: right;\">\n",
              "      <th></th>\n",
              "      <th>Hours</th>\n",
              "      <th>Scores</th>\n",
              "    </tr>\n",
              "  </thead>\n",
              "  <tbody>\n",
              "    <tr>\n",
              "      <th>count</th>\n",
              "      <td>25.000000</td>\n",
              "      <td>25.000000</td>\n",
              "    </tr>\n",
              "    <tr>\n",
              "      <th>mean</th>\n",
              "      <td>5.012000</td>\n",
              "      <td>51.480000</td>\n",
              "    </tr>\n",
              "    <tr>\n",
              "      <th>std</th>\n",
              "      <td>2.525094</td>\n",
              "      <td>25.286887</td>\n",
              "    </tr>\n",
              "    <tr>\n",
              "      <th>min</th>\n",
              "      <td>1.100000</td>\n",
              "      <td>17.000000</td>\n",
              "    </tr>\n",
              "    <tr>\n",
              "      <th>25%</th>\n",
              "      <td>2.700000</td>\n",
              "      <td>30.000000</td>\n",
              "    </tr>\n",
              "    <tr>\n",
              "      <th>50%</th>\n",
              "      <td>4.800000</td>\n",
              "      <td>47.000000</td>\n",
              "    </tr>\n",
              "    <tr>\n",
              "      <th>75%</th>\n",
              "      <td>7.400000</td>\n",
              "      <td>75.000000</td>\n",
              "    </tr>\n",
              "    <tr>\n",
              "      <th>max</th>\n",
              "      <td>9.200000</td>\n",
              "      <td>95.000000</td>\n",
              "    </tr>\n",
              "  </tbody>\n",
              "</table>\n",
              "</div>"
            ],
            "text/plain": [
              "           Hours     Scores\n",
              "count  25.000000  25.000000\n",
              "mean    5.012000  51.480000\n",
              "std     2.525094  25.286887\n",
              "min     1.100000  17.000000\n",
              "25%     2.700000  30.000000\n",
              "50%     4.800000  47.000000\n",
              "75%     7.400000  75.000000\n",
              "max     9.200000  95.000000"
            ]
          },
          "metadata": {
            "tags": []
          },
          "execution_count": 5
        }
      ]
    },
    {
      "cell_type": "markdown",
      "metadata": {
        "id": "E7uvPTERw0Ip"
      },
      "source": [
        "**# To check the missing values**"
      ]
    },
    {
      "cell_type": "code",
      "metadata": {
        "colab": {
          "base_uri": "https://localhost:8080/"
        },
        "id": "iUkd3kALww-R",
        "outputId": "bc44b193-3770-48b8-bc8d-20a33b351f47"
      },
      "source": [
        "data_scores.isnull().sum()"
      ],
      "execution_count": 6,
      "outputs": [
        {
          "output_type": "execute_result",
          "data": {
            "text/plain": [
              "Hours     0\n",
              "Scores    0\n",
              "dtype: int64"
            ]
          },
          "metadata": {
            "tags": []
          },
          "execution_count": 6
        }
      ]
    },
    {
      "cell_type": "code",
      "metadata": {
        "colab": {
          "base_uri": "https://localhost:8080/"
        },
        "id": "1Mk_1zz3xBLU",
        "outputId": "98870d6e-265f-4716-9fef-08eded42d311"
      },
      "source": [
        "data_scores.info()"
      ],
      "execution_count": 7,
      "outputs": [
        {
          "output_type": "stream",
          "text": [
            "<class 'pandas.core.frame.DataFrame'>\n",
            "RangeIndex: 25 entries, 0 to 24\n",
            "Data columns (total 2 columns):\n",
            " #   Column  Non-Null Count  Dtype  \n",
            "---  ------  --------------  -----  \n",
            " 0   Hours   25 non-null     float64\n",
            " 1   Scores  25 non-null     int64  \n",
            "dtypes: float64(1), int64(1)\n",
            "memory usage: 528.0 bytes\n"
          ],
          "name": "stdout"
        }
      ]
    },
    {
      "cell_type": "code",
      "metadata": {
        "colab": {
          "base_uri": "https://localhost:8080/",
          "height": 281
        },
        "id": "iuI6eHR4xYfM",
        "outputId": "ad05a663-668c-4546-e1dc-ea06d46fee4f"
      },
      "source": [
        "sns.heatmap(data_scores.isnull(), cbar=False)"
      ],
      "execution_count": 8,
      "outputs": [
        {
          "output_type": "execute_result",
          "data": {
            "text/plain": [
              "<matplotlib.axes._subplots.AxesSubplot at 0x7fa8146c4c90>"
            ]
          },
          "metadata": {
            "tags": []
          },
          "execution_count": 8
        },
        {
          "output_type": "display_data",
          "data": {
            "image/png": "[encoded data removed]",
            "text/plain": [
              "<Figure size 432x288 with 1 Axes>"
            ]
          },
          "metadata": {
            "tags": [],
            "needs_background": "light"
          }
        }
      ]
    },
    {
      "cell_type": "markdown",
      "metadata": {
        "id": "N6oD0VLUxeHY"
      },
      "source": [
        " As we notice there are no missing values in the dataset"
      ]
    },
    {
      "cell_type": "markdown",
      "metadata": {
        "id": "fX9OMjGPxlt_"
      },
      "source": [
        "**# Outliers**"
      ]
    },
    {
      "cell_type": "code",
      "metadata": {
        "colab": {
          "base_uri": "https://localhost:8080/",
          "height": 513
        },
        "id": "BcMEEhFKxj7-",
        "outputId": "1a92b9b4-e220-4d3d-b662-724b80bfd68c"
      },
      "source": [
        "#There should be no outliers in the data. Check using boxplot\n",
        "for i in data_scores.columns:\n",
        "    data_scores.boxplot(column=i)\n",
        "    plt.show()"
      ],
      "execution_count": 9,
      "outputs": [
        {
          "output_type": "display_data",
          "data": {
            "image/png": "[encoded data removed]",
            "text/plain": [
              "<Figure size 432x288 with 1 Axes>"
            ]
          },
          "metadata": {
            "tags": [],
            "needs_background": "light"
          }
        },
        {
          "output_type": "display_data",
          "data": {
            "image/png": "[encoded data removed]",
            "text/plain": [
              "<Figure size 432x288 with 1 Axes>"
            ]
          },
          "metadata": {
            "tags": [],
            "needs_background": "light"
          }
        }
      ]
    },
    {
      "cell_type": "markdown",
      "metadata": {
        "id": "nDrf5rd8x60Q"
      },
      "source": [
        "Observation:\n",
        "There are no major outliers to be sorted so we can go ahead."
      ]
    },
    {
      "cell_type": "markdown",
      "metadata": {
        "id": "zdnN6o4CyNxP"
      },
      "source": [
        "# Data Visualization"
      ]
    },
    {
      "cell_type": "code",
      "metadata": {
        "colab": {
          "base_uri": "https://localhost:8080/",
          "height": 333
        },
        "id": "a4AQrFFWyAUi",
        "outputId": "5422cfe7-39f9-4518-ff5b-7892d494245f"
      },
      "source": [
        "# Let's visualize the target variable with an Distrubtion Plot\n",
        "sns.distplot(data_scores['Scores'], bins=10)\n",
        "plt.show()"
      ],
      "execution_count": 10,
      "outputs": [
        {
          "output_type": "stream",
          "text": [
            "/usr/local/lib/python3.7/dist-packages/seaborn/distributions.py:2557: FutureWarning: `distplot` is a deprecated function and will be removed in a future version. Please adapt your code to use either `displot` (a figure-level function with similar flexibility) or `histplot` (an axes-level function for histograms).\n",
            "  warnings.warn(msg, FutureWarning)\n"
          ],
          "name": "stderr"
        },
        {
          "output_type": "display_data",
          "data": {
            "image/png": "[encoded data removed]",
            "text/plain": [
              "<Figure size 432x288 with 1 Axes>"
            ]
          },
          "metadata": {
            "tags": [],
            "needs_background": "light"
          }
        }
      ]
    },
    {
      "cell_type": "markdown",
      "metadata": {
        "id": "DJ9SLMJbzPlz"
      },
      "source": [
        "We can observe that the Scores are normally distributed with skewness towards the positive side. "
      ]
    },
    {
      "cell_type": "code",
      "metadata": {
        "colab": {
          "base_uri": "https://localhost:8080/",
          "height": 397
        },
        "id": "0Y2l9haDz2vx",
        "outputId": "044c2c2c-fd34-4bfb-ccc9-f3341d60e906"
      },
      "source": [
        "# Visualizing the dataset columns with the help of a scatter diagram\n",
        "# scatter plot with regression line\n",
        "sns.lmplot(data=data_scores, x=\"Hours\" ,y=\"Scores\")\n",
        "plt.title('Relationship Between Hours and Scores',size=10)\n",
        "plt.show()"
      ],
      "execution_count": 11,
      "outputs": [
        {
          "output_type": "display_data",
          "data": {
            "image/png": "[encoded data removed]",
            "text/plain": [
              "<Figure size 360x360 with 1 Axes>"
            ]
          },
          "metadata": {
            "tags": [],
            "needs_background": "light"
          }
        }
      ]
    },
    {
      "cell_type": "markdown",
      "metadata": {
        "id": "O32DWs2t2WSv"
      },
      "source": [
        "As we see there is a positive relationship between the number of hours and scores."
      ]
    },
    {
      "cell_type": "markdown",
      "metadata": {
        "id": "pyGq9sF92v2T"
      },
      "source": [
        "**Correlation Matrix**"
      ]
    },
    {
      "cell_type": "code",
      "metadata": {
        "colab": {
          "base_uri": "https://localhost:8080/",
          "height": 286
        },
        "id": "1Bi86zs_2hbZ",
        "outputId": "8d69221f-7316-479c-fa11-8c56e5821bd7"
      },
      "source": [
        "sns.heatmap(data_scores.corr(),annot=True)"
      ],
      "execution_count": 12,
      "outputs": [
        {
          "output_type": "execute_result",
          "data": {
            "text/plain": [
              "<matplotlib.axes._subplots.AxesSubplot at 0x7fa804f6f0d0>"
            ]
          },
          "metadata": {
            "tags": []
          },
          "execution_count": 12
        },
        {
          "output_type": "display_data",
          "data": {
            "image/png": "[encoded data removed]",
            "text/plain": [
              "<Figure size 432x288 with 2 Axes>"
            ]
          },
          "metadata": {
            "tags": [],
            "needs_background": "light"
          }
        }
      ]
    },
    {
      "cell_type": "markdown",
      "metadata": {
        "id": "PCXx1qtX29zV"
      },
      "source": [
        "As we observe in this heatmap hours and scores are highly Positively correlated to each other"
      ]
    },
    {
      "cell_type": "markdown",
      "metadata": {
        "id": "TVIPnpUR3VAH"
      },
      "source": [
        "# Preparing the data for Linear Regression"
      ]
    },
    {
      "cell_type": "code",
      "metadata": {
        "id": "UX1KiOHx3El3"
      },
      "source": [
        "X = data_scores.iloc[:, :-1].values  \n",
        "Y = data_scores.iloc[:, 1].values"
      ],
      "execution_count": 13,
      "outputs": []
    },
    {
      "cell_type": "markdown",
      "metadata": {
        "id": "9Q-7DOYj3rEI"
      },
      "source": [
        "**Splitting the data into training and testing with the help of train_test_split from sklearn module**"
      ]
    },
    {
      "cell_type": "code",
      "metadata": {
        "id": "ub49mOIj32VG"
      },
      "source": [
        "X_train, X_test, Y_train, Y_test = train_test_split(X, Y, test_size = 0.3, random_state = 2)"
      ],
      "execution_count": 14,
      "outputs": []
    },
    {
      "cell_type": "code",
      "metadata": {
        "colab": {
          "base_uri": "https://localhost:8080/"
        },
        "id": "krQ_vSKd4Wc-",
        "outputId": "7d8df534-d300-4f28-9793-95fc31fb66db"
      },
      "source": [
        "print(X_train.shape)\n",
        "print(Y_train.shape)\n",
        "print(X_test.shape)\n",
        "print(Y_test.shape)"
      ],
      "execution_count": 15,
      "outputs": [
        {
          "output_type": "stream",
          "text": [
            "(17, 1)\n",
            "(17,)\n",
            "(8, 1)\n",
            "(8,)\n"
          ],
          "name": "stdout"
        }
      ]
    },
    {
      "cell_type": "markdown",
      "metadata": {
        "id": "Furlxg6q4wAJ"
      },
      "source": [
        "#Fitting the data into the model"
      ]
    },
    {
      "cell_type": "code",
      "metadata": {
        "colab": {
          "base_uri": "https://localhost:8080/"
        },
        "id": "GRvNM01E4eFl",
        "outputId": "f872148a-eccf-4b6b-8e54-98e499e2f56d"
      },
      "source": [
        "scores_lr = LinearRegression()  \n",
        "scores_lr.fit(X_train, Y_train) "
      ],
      "execution_count": 16,
      "outputs": [
        {
          "output_type": "execute_result",
          "data": {
            "text/plain": [
              "LinearRegression(copy_X=True, fit_intercept=True, n_jobs=None, normalize=False)"
            ]
          },
          "metadata": {
            "tags": []
          },
          "execution_count": 16
        }
      ]
    },
    {
      "cell_type": "markdown",
      "metadata": {
        "id": "mKOEzIQb5J4W"
      },
      "source": [
        "**Predicting the Scores**"
      ]
    },
    {
      "cell_type": "code",
      "metadata": {
        "colab": {
          "base_uri": "https://localhost:8080/"
        },
        "id": "5-4QWVTv40CQ",
        "outputId": "b068dbcb-8db6-4952-e7a1-18a907b2a006"
      },
      "source": [
        "Y_pred = scores_lr.predict(X_test)\n",
        "Y_pred"
      ],
      "execution_count": 17,
      "outputs": [
        {
          "output_type": "execute_result",
          "data": {
            "text/plain": [
              "array([11.02900268, 25.62801721, 19.3712967 , 95.49472962, 71.51063432,\n",
              "       27.71359072, 88.19522235, 25.62801721])"
            ]
          },
          "metadata": {
            "tags": []
          },
          "execution_count": 17
        }
      ]
    },
    {
      "cell_type": "markdown",
      "metadata": {
        "id": "lE8Oma0l5aYc"
      },
      "source": [
        "**Evaluating the Train and Test scores**"
      ]
    },
    {
      "cell_type": "code",
      "metadata": {
        "colab": {
          "base_uri": "https://localhost:8080/"
        },
        "id": "hgV6hIaA5o1b",
        "outputId": "e293ac7d-9cc8-40f8-8d21-8b7d9f5076a2"
      },
      "source": [
        "print('Training Score : ', scores_lr.score(X_train, Y_train))\n",
        "print('Test Score : ', scores_lr.score(X_test, Y_test))"
      ],
      "execution_count": 18,
      "outputs": [
        {
          "output_type": "stream",
          "text": [
            "Training Score :  0.9496868783142937\n",
            "Test Score :  0.9420584734434516\n"
          ],
          "name": "stdout"
        }
      ]
    },
    {
      "cell_type": "markdown",
      "metadata": {
        "id": "5gUs9Fml5-C3"
      },
      "source": [
        "**Comparing Actual Score and Predicted Score**"
      ]
    },
    {
      "cell_type": "code",
      "metadata": {
        "colab": {
          "base_uri": "https://localhost:8080/"
        },
        "id": "P0S8Yyn-5_b8",
        "outputId": "ee0539c9-66d6-4718-adb9-c49ec049f520"
      },
      "source": [
        "output = pd.DataFrame({'Actual Score': Y_test,'Predicted Score': Y_pred, 'Residual':Y_test-Y_pred })\n",
        "print(output.head())"
      ],
      "execution_count": 19,
      "outputs": [
        {
          "output_type": "stream",
          "text": [
            "   Actual Score  Predicted Score  Residual\n",
            "0            17        11.029003  5.970997\n",
            "1            21        25.628017 -4.628017\n",
            "2            24        19.371297  4.628703\n",
            "3            88        95.494730 -7.494730\n",
            "4            76        71.510634  4.489366\n"
          ],
          "name": "stdout"
        }
      ]
    },
    {
      "cell_type": "markdown",
      "metadata": {
        "id": "krUbBPpB6cXl"
      },
      "source": [
        "# **Visualize the Predicted and Actual Scores**"
      ]
    },
    {
      "cell_type": "code",
      "metadata": {
        "colab": {
          "base_uri": "https://localhost:8080/",
          "height": 295
        },
        "id": "ZC0175HE6QWk",
        "outputId": "4ffd1eb2-8330-43dc-af09-3c86805bd125"
      },
      "source": [
        "# Training data Scores vs Predicted Scores\n",
        "plt.scatter(X_train, Y_train, color = 'red')\n",
        "plt.plot(X_train, scores_lr.predict(X_train), color = 'blue')\n",
        "plt.title('Hours vs Scores')\n",
        "plt.xlabel('Hours')\n",
        "plt.ylabel('Scores')\n",
        "plt.show()"
      ],
      "execution_count": 20,
      "outputs": [
        {
          "output_type": "display_data",
          "data": {
            "image/png": "[encoded data removed]",
            "text/plain": [
              "<Figure size 432x288 with 1 Axes>"
            ]
          },
          "metadata": {
            "tags": [],
            "needs_background": "light"
          }
        }
      ]
    },
    {
      "cell_type": "code",
      "metadata": {
        "colab": {
          "base_uri": "https://localhost:8080/",
          "height": 312
        },
        "id": "HhH3kXcA65PK",
        "outputId": "fc82bb6d-5efe-45c7-f6ee-62cafd522754"
      },
      "source": [
        "#Testing data Scores vs Predicted Scores\n",
        "x=Y_test\n",
        "y=Y_pred\n",
        "plt.scatter(X, Y)\n",
        "plt.xlabel(\"Actual Scores: Y \")\n",
        "plt.ylabel(\"Predicted scores: Y\")\n",
        "plt.title(\"Actual Scores vs Predicted Scores\")\n",
        "\n",
        "\n"
      ],
      "execution_count": 21,
      "outputs": [
        {
          "output_type": "execute_result",
          "data": {
            "text/plain": [
              "Text(0.5, 1.0, 'Actual Scores vs Predicted Scores')"
            ]
          },
          "metadata": {
            "tags": []
          },
          "execution_count": 21
        },
        {
          "output_type": "display_data",
          "data": {
            "image/png": "[encoded data removed]",
            "text/plain": [
              "<Figure size 432x288 with 1 Axes>"
            ]
          },
          "metadata": {
            "tags": [],
            "needs_background": "light"
          }
        }
      ]
    },
    {
      "cell_type": "markdown",
      "metadata": {
        "id": "WYmGfgKZ7s9t"
      },
      "source": [
        "## **Evaluating the Model**"
      ]
    },
    {
      "cell_type": "markdown",
      "metadata": {
        "id": "4hfJ_TN973RM"
      },
      "source": [
        "We will evaluate the model using  metrics like :\n",
        "mean_absolute_error,\n",
        "mean_squared_error,\n",
        "R2_score"
      ]
    },
    {
      "cell_type": "code",
      "metadata": {
        "colab": {
          "base_uri": "https://localhost:8080/"
        },
        "id": "vC4voyfi7xJY",
        "outputId": "c96b414c-8fdd-4582-bbbf-7a8a44aa1e31"
      },
      "source": [
        "from sklearn import metrics  \n",
        "print('Mean Absolute Error:', metrics.mean_absolute_error(Y_test, Y_pred))\n",
        "print('Root Mean Squared Error:', np.sqrt(metrics.mean_absolute_error(Y_test, Y_pred)))\n",
        "\n",
        "#Goodness of Fit (R2)\n",
        "metrics.r2_score(Y_test,Y_pred)"
      ],
      "execution_count": 22,
      "outputs": [
        {
          "output_type": "stream",
          "text": [
            "Mean Absolute Error: 5.936576124243745\n",
            "Root Mean Squared Error: 2.4365090035219947\n"
          ],
          "name": "stdout"
        },
        {
          "output_type": "execute_result",
          "data": {
            "text/plain": [
              "0.9420584734434516"
            ]
          },
          "metadata": {
            "tags": []
          },
          "execution_count": 22
        }
      ]
    },
    {
      "cell_type": "markdown",
      "metadata": {
        "id": "e_RSThkF8dCl"
      },
      "source": [
        "The linear regression model is doing well because the Mean absolute erroe and the R2 is less"
      ]
    },
    {
      "cell_type": "markdown",
      "metadata": {
        "id": "23C-C4hu810I"
      },
      "source": [
        "**What will be predicted score if a student study for 9.25 hrs in a day?**"
      ]
    },
    {
      "cell_type": "code",
      "metadata": {
        "colab": {
          "base_uri": "https://localhost:8080/"
        },
        "id": "iH7DJc3Y8tTA",
        "outputId": "4574e993-ce36-4627-96e6-facf620245e9"
      },
      "source": [
        "study_hours = 9.25\n",
        "score_pred = scores_lr.predict([[study_hours]])\n",
        "print(\"Number of hours = {}\".format(study_hours))\n",
        "print(\"Predicted scores = {}\".format(score_pred[0]))"
      ],
      "execution_count": 23,
      "outputs": [
        {
          "output_type": "stream",
          "text": [
            "Number of hours = 9.25\n",
            "Predicted scores = 96.01612299632009\n"
          ],
          "name": "stdout"
        }
      ]
    },
    {
      "cell_type": "markdown",
      "metadata": {
        "id": "EDmLgPxd9L0L"
      },
      "source": [
        "**Therfore from the above prediction, the predicted score is 96.01612299632009 if a person studies for 9.25 hours**"
      ]
    },
    {
      "cell_type": "markdown",
      "metadata": {
        "id": "ChUaPbHJ9Shs"
      },
      "source": [
        "# *Conclusion*"
      ]
    },
    {
      "cell_type": "markdown",
      "metadata": {
        "id": "JoQGJ9el9cOb"
      },
      "source": [
        "Therefore, According to the regression model if a student studies for 9.25 hours a day he or she is likely to score 96.01 marks."
      ]
    },
    {
      "cell_type": "markdown",
      "metadata": {
        "id": "AEoapqNe9vYY"
      },
      "source": [
        "# ***Thank You!***"
      ]
    }
  ]
}